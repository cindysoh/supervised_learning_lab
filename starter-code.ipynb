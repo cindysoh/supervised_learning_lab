{
 "cells": [
  {
   "cell_type": "markdown",
   "metadata": {},
   "source": [
    "## 6.01 - Supervised Learning Model Comparison\n",
    "\n",
    "Recall the \"data science process.\"\n",
    "\n",
    "1. Define the problem.\n",
    "2. Gather the data.\n",
    "3. Explore the data.\n",
    "4. Model the data.\n",
    "5. Evaluate the model.\n",
    "6. Answer the problem.\n",
    "\n",
    "In this lab, we're going to focus mostly on creating (and then comparing) many regression and classification models. Thus, we'll define the problem and gather the data for you.\n",
    "Most of the questions requiring a written response can be written in 2-3 sentences."
   ]
  },
  {
   "cell_type": "markdown",
   "metadata": {},
   "source": [
    "### Step 1: Define the problem.\n",
    "\n",
    "You are a data scientist with a financial services company. Specifically, you want to leverage data in order to identify potential customers.\n",
    "\n",
    "If you are unfamiliar with \"401(k)s\" or \"IRAs,\" these are two types of retirement accounts. Very broadly speaking:\n",
    "- You can put money for retirement into both of these accounts.\n",
    "- The money in these accounts gets invested and hopefully has a lot more money in it when you retire.\n",
    "- These are a little different from regular bank accounts in that there are certain tax benefits to these accounts. Also, employers frequently match money that you put into a 401k.\n",
    "- If you want to learn more about them, check out [this site](https://www.nerdwallet.com/article/ira-vs-401k-retirement-accounts).\n",
    "\n",
    "We will tackle one regression problem and one classification problem today.\n",
    "- Regression: What features best predict one's income?\n",
    "- Classification: Predict whether or not one is eligible for a 401k.\n",
    "\n",
    "Check out the data dictionary [here](http://fmwww.bc.edu/ec-p/data/wooldridge2k/401KSUBS.DES).\n",
    "\n",
    "### NOTE: When predicting `inc`, you should pretend as though you do not have access to the `e401k`, the `p401k` variable, and the `pira` variable. When predicting `e401k`, you may use the entire dataframe if you wish."
   ]
  },
  {
   "cell_type": "markdown",
   "metadata": {},
   "source": [
    "### Step 2: Gather the data.\n",
    "\n",
    "##### 1. Read in the data from the repository."
   ]
  },
  {
   "cell_type": "code",
   "execution_count": 1,
   "metadata": {},
   "outputs": [],
   "source": [
    "import pandas as pd\n",
    "import numpy as np"
   ]
  },
  {
   "cell_type": "code",
   "execution_count": 2,
   "metadata": {},
   "outputs": [],
   "source": [
    "four01k = pd.read_csv('401ksubs.csv')"
   ]
  },
  {
   "cell_type": "markdown",
   "metadata": {},
   "source": [
    "##### 2. What are 2-3 other variables that, if available, would be helpful to have?"
   ]
  },
  {
   "cell_type": "markdown",
   "metadata": {},
   "source": [
    "- education level\n",
    "- empolyment status\n",
    "- number of kids"
   ]
  },
  {
   "cell_type": "markdown",
   "metadata": {},
   "source": [
    "##### 3. Suppose a peer recommended putting `race` into your model in order to better predict who to target when advertising IRAs and 401(k)s. Why would this be an unethical decision?"
   ]
  },
  {
   "cell_type": "markdown",
   "metadata": {
    "collapsed": true
   },
   "source": [
    "This might be seen as discriminating intention. Race should not be a determining factor for targeting audience."
   ]
  },
  {
   "cell_type": "markdown",
   "metadata": {},
   "source": [
    "## Step 3: Explore the data.\n",
    "\n",
    "##### 4. When attempting to predict income, which feature(s) would we reasonably not use? Why?"
   ]
  },
  {
   "cell_type": "markdown",
   "metadata": {
    "collapsed": true
   },
   "source": [
    "- incsq\n",
    "- agesq"
   ]
  },
  {
   "cell_type": "markdown",
   "metadata": {},
   "source": [
    "##### 5. What two variables have already been created for us through feature engineering? Come up with a hypothesis as to why subject-matter experts may have done this.\n",
    "> This need not be a \"statistical hypothesis.\" Just brainstorm why SMEs might have done this!"
   ]
  },
  {
   "cell_type": "markdown",
   "metadata": {},
   "source": [
    "- incsq\n",
    "- agesq"
   ]
  },
  {
   "cell_type": "code",
   "execution_count": 3,
   "metadata": {},
   "outputs": [
    {
     "data": {
      "text/html": [
       "<div>\n",
       "<style scoped>\n",
       "    .dataframe tbody tr th:only-of-type {\n",
       "        vertical-align: middle;\n",
       "    }\n",
       "\n",
       "    .dataframe tbody tr th {\n",
       "        vertical-align: top;\n",
       "    }\n",
       "\n",
       "    .dataframe thead th {\n",
       "        text-align: right;\n",
       "    }\n",
       "</style>\n",
       "<table border=\"1\" class=\"dataframe\">\n",
       "  <thead>\n",
       "    <tr style=\"text-align: right;\">\n",
       "      <th></th>\n",
       "      <th>e401k</th>\n",
       "      <th>inc</th>\n",
       "      <th>marr</th>\n",
       "      <th>male</th>\n",
       "      <th>age</th>\n",
       "      <th>fsize</th>\n",
       "      <th>nettfa</th>\n",
       "      <th>p401k</th>\n",
       "      <th>pira</th>\n",
       "      <th>incsq</th>\n",
       "      <th>agesq</th>\n",
       "    </tr>\n",
       "  </thead>\n",
       "  <tbody>\n",
       "    <tr>\n",
       "      <th>0</th>\n",
       "      <td>0</td>\n",
       "      <td>13.170</td>\n",
       "      <td>0</td>\n",
       "      <td>0</td>\n",
       "      <td>40</td>\n",
       "      <td>1</td>\n",
       "      <td>4.575</td>\n",
       "      <td>0</td>\n",
       "      <td>1</td>\n",
       "      <td>173.4489</td>\n",
       "      <td>1600</td>\n",
       "    </tr>\n",
       "    <tr>\n",
       "      <th>1</th>\n",
       "      <td>1</td>\n",
       "      <td>61.230</td>\n",
       "      <td>0</td>\n",
       "      <td>1</td>\n",
       "      <td>35</td>\n",
       "      <td>1</td>\n",
       "      <td>154.000</td>\n",
       "      <td>1</td>\n",
       "      <td>0</td>\n",
       "      <td>3749.1130</td>\n",
       "      <td>1225</td>\n",
       "    </tr>\n",
       "    <tr>\n",
       "      <th>2</th>\n",
       "      <td>0</td>\n",
       "      <td>12.858</td>\n",
       "      <td>1</td>\n",
       "      <td>0</td>\n",
       "      <td>44</td>\n",
       "      <td>2</td>\n",
       "      <td>0.000</td>\n",
       "      <td>0</td>\n",
       "      <td>0</td>\n",
       "      <td>165.3282</td>\n",
       "      <td>1936</td>\n",
       "    </tr>\n",
       "    <tr>\n",
       "      <th>3</th>\n",
       "      <td>0</td>\n",
       "      <td>98.880</td>\n",
       "      <td>1</td>\n",
       "      <td>1</td>\n",
       "      <td>44</td>\n",
       "      <td>2</td>\n",
       "      <td>21.800</td>\n",
       "      <td>0</td>\n",
       "      <td>0</td>\n",
       "      <td>9777.2540</td>\n",
       "      <td>1936</td>\n",
       "    </tr>\n",
       "    <tr>\n",
       "      <th>4</th>\n",
       "      <td>0</td>\n",
       "      <td>22.614</td>\n",
       "      <td>0</td>\n",
       "      <td>0</td>\n",
       "      <td>53</td>\n",
       "      <td>1</td>\n",
       "      <td>18.450</td>\n",
       "      <td>0</td>\n",
       "      <td>0</td>\n",
       "      <td>511.3930</td>\n",
       "      <td>2809</td>\n",
       "    </tr>\n",
       "    <tr>\n",
       "      <th>...</th>\n",
       "      <td>...</td>\n",
       "      <td>...</td>\n",
       "      <td>...</td>\n",
       "      <td>...</td>\n",
       "      <td>...</td>\n",
       "      <td>...</td>\n",
       "      <td>...</td>\n",
       "      <td>...</td>\n",
       "      <td>...</td>\n",
       "      <td>...</td>\n",
       "      <td>...</td>\n",
       "    </tr>\n",
       "    <tr>\n",
       "      <th>9270</th>\n",
       "      <td>0</td>\n",
       "      <td>58.428</td>\n",
       "      <td>1</td>\n",
       "      <td>0</td>\n",
       "      <td>33</td>\n",
       "      <td>4</td>\n",
       "      <td>-1.200</td>\n",
       "      <td>0</td>\n",
       "      <td>0</td>\n",
       "      <td>3413.8310</td>\n",
       "      <td>1089</td>\n",
       "    </tr>\n",
       "    <tr>\n",
       "      <th>9271</th>\n",
       "      <td>0</td>\n",
       "      <td>24.546</td>\n",
       "      <td>0</td>\n",
       "      <td>1</td>\n",
       "      <td>37</td>\n",
       "      <td>3</td>\n",
       "      <td>2.000</td>\n",
       "      <td>0</td>\n",
       "      <td>0</td>\n",
       "      <td>602.5061</td>\n",
       "      <td>1369</td>\n",
       "    </tr>\n",
       "    <tr>\n",
       "      <th>9272</th>\n",
       "      <td>0</td>\n",
       "      <td>38.550</td>\n",
       "      <td>1</td>\n",
       "      <td>0</td>\n",
       "      <td>33</td>\n",
       "      <td>3</td>\n",
       "      <td>-13.600</td>\n",
       "      <td>0</td>\n",
       "      <td>1</td>\n",
       "      <td>1486.1020</td>\n",
       "      <td>1089</td>\n",
       "    </tr>\n",
       "    <tr>\n",
       "      <th>9273</th>\n",
       "      <td>0</td>\n",
       "      <td>34.410</td>\n",
       "      <td>1</td>\n",
       "      <td>0</td>\n",
       "      <td>57</td>\n",
       "      <td>3</td>\n",
       "      <td>3.550</td>\n",
       "      <td>0</td>\n",
       "      <td>0</td>\n",
       "      <td>1184.0480</td>\n",
       "      <td>3249</td>\n",
       "    </tr>\n",
       "    <tr>\n",
       "      <th>9274</th>\n",
       "      <td>0</td>\n",
       "      <td>25.608</td>\n",
       "      <td>0</td>\n",
       "      <td>1</td>\n",
       "      <td>49</td>\n",
       "      <td>1</td>\n",
       "      <td>1.800</td>\n",
       "      <td>0</td>\n",
       "      <td>0</td>\n",
       "      <td>655.7697</td>\n",
       "      <td>2401</td>\n",
       "    </tr>\n",
       "  </tbody>\n",
       "</table>\n",
       "<p>9275 rows × 11 columns</p>\n",
       "</div>"
      ],
      "text/plain": [
       "      e401k     inc  marr  male  age  fsize   nettfa  p401k  pira      incsq  \\\n",
       "0         0  13.170     0     0   40      1    4.575      0     1   173.4489   \n",
       "1         1  61.230     0     1   35      1  154.000      1     0  3749.1130   \n",
       "2         0  12.858     1     0   44      2    0.000      0     0   165.3282   \n",
       "3         0  98.880     1     1   44      2   21.800      0     0  9777.2540   \n",
       "4         0  22.614     0     0   53      1   18.450      0     0   511.3930   \n",
       "...     ...     ...   ...   ...  ...    ...      ...    ...   ...        ...   \n",
       "9270      0  58.428     1     0   33      4   -1.200      0     0  3413.8310   \n",
       "9271      0  24.546     0     1   37      3    2.000      0     0   602.5061   \n",
       "9272      0  38.550     1     0   33      3  -13.600      0     1  1486.1020   \n",
       "9273      0  34.410     1     0   57      3    3.550      0     0  1184.0480   \n",
       "9274      0  25.608     0     1   49      1    1.800      0     0   655.7697   \n",
       "\n",
       "      agesq  \n",
       "0      1600  \n",
       "1      1225  \n",
       "2      1936  \n",
       "3      1936  \n",
       "4      2809  \n",
       "...     ...  \n",
       "9270   1089  \n",
       "9271   1369  \n",
       "9272   1089  \n",
       "9273   3249  \n",
       "9274   2401  \n",
       "\n",
       "[9275 rows x 11 columns]"
      ]
     },
     "execution_count": 3,
     "metadata": {},
     "output_type": "execute_result"
    }
   ],
   "source": [
    "four01k"
   ]
  },
  {
   "cell_type": "markdown",
   "metadata": {},
   "source": [
    "##### 6. Looking at the data dictionary, one variable description appears to be an error. What is this error, and what do you think the correct value would be?"
   ]
  },
  {
   "cell_type": "markdown",
   "metadata": {
    "collapsed": true
   },
   "source": [
    "- inc variable is describe as income squared: value should be in $1000 representation\n",
    "- age variable is describe as age squared: the values seems to indicate that it should be just age and not squared"
   ]
  },
  {
   "cell_type": "markdown",
   "metadata": {},
   "source": [
    "## Step 4: Model the data. (Part 1: Regression Problem)\n",
    "\n",
    "Recall:\n",
    "- Problem: What features best predict one's income?\n",
    "- When predicting `inc`, you should pretend as though you do not have access to the `e401k`, the `p401k` variable, and the `pira` variable.\n",
    "\n",
    "##### 7. List all modeling tactics we've learned that could be used to solve a regression problem (as of Wednesday afternoon of Week 6). For each tactic, identify whether it is or is not appropriate for solving this specific regression problem and explain why or why not."
   ]
  },
  {
   "cell_type": "markdown",
   "metadata": {
    "collapsed": true
   },
   "source": [
    "- Linear Regression: Easy to interpret\n",
    "- Logistic Regression: Not as useful, as it is use for predicting 0 and 1\n",
    "- Polynomial Regression: fit nonlinear models to its data\n",
    "- Ridge Regression: will be benefit if there is a high error due to its variance\n",
    "- Lasso Regression: more effective with narrowing down lots of variables\n",
    "\n",
    "Linear or ridge will be more suitable for predicting income"
   ]
  },
  {
   "cell_type": "markdown",
   "metadata": {},
   "source": [
    "##### 8. Regardless of your answer to number 7, fit at least one of each of the following models to attempt to solve the regression problem above:\n",
    "    - a multiple linear regression model\n",
    "    - a k-nearest neighbors model\n",
    "    - a decision tree\n",
    "    - a set of bagged decision trees\n",
    "    - a random forest\n",
    "    - an Adaboost model\n",
    "    - a support vector regressor\n",
    "    \n",
    "> As always, be sure to do a train/test split! In order to compare modeling techniques, you should use the same train-test split on each. I recommend setting a random seed here.\n",
    "\n",
    "> You may find it helpful to set up a pipeline to try each modeling technique, but you are not required to do so!"
   ]
  },
  {
   "cell_type": "code",
   "execution_count": 4,
   "metadata": {},
   "outputs": [],
   "source": [
    "from sklearn.model_selection import train_test_split, cross_val_score, GridSearchCV\n",
    "from sklearn.linear_model import LinearRegression\n",
    "from sklearn.neighbors import KNeighborsRegressor\n",
    "from sklearn.tree import DecisionTreeRegressor\n",
    "from sklearn.preprocessing import StandardScaler\n",
    "from sklearn.ensemble import BaggingRegressor, RandomForestRegressor, AdaBoostRegressor\n",
    "from sklearn.metrics import mean_squared_error\n",
    "from sklearn.svm import SVR\n",
    "from sklearn.pipeline import Pipeline\n",
    "from sklearn import metrics\n",
    "from math import sqrt"
   ]
  },
  {
   "cell_type": "code",
   "execution_count": 5,
   "metadata": {},
   "outputs": [],
   "source": [
    "features = ['marr','male','age','fsize','nettfa','incsq','agesq']\n",
    "\n",
    "X = four01k[features]\n",
    "y = four01k['inc']"
   ]
  },
  {
   "cell_type": "code",
   "execution_count": 6,
   "metadata": {},
   "outputs": [],
   "source": [
    "X_train, X_test, y_train, y_test = train_test_split(X, y, random_state=42)"
   ]
  },
  {
   "cell_type": "code",
   "execution_count": 7,
   "metadata": {},
   "outputs": [],
   "source": [
    "ss = StandardScaler()\n",
    "X_train_sc = ss.fit_transform(X_train)\n",
    "X_test_sc = ss.transform(X_test)"
   ]
  },
  {
   "cell_type": "code",
   "execution_count": 26,
   "metadata": {},
   "outputs": [
    {
     "name": "stdout",
     "output_type": "stream",
     "text": [
      "Train score: 0.8948254673897011\n",
      "Test score: 0.9055024120733454\n",
      "CV score: 0.8934438475524992\n"
     ]
    }
   ],
   "source": [
    "lr = LinearRegression()\n",
    "lr.fit(X_train_sc, y_train)\n",
    "lr_train_score = lr.score(X_train_sc, y_train)\n",
    "lr_test_score = lr.score(X_test_sc, y_test)\n",
    "lr_cv_score = cross_val_score(lr, X_train_sc, y_train, cv=5).mean()\n",
    "print(f\"Train score: {lr_train_score}\")\n",
    "print(f\"Test score: {lr_test_score}\")\n",
    "print(f\"CV score: {lr_cv_score}\")"
   ]
  },
  {
   "cell_type": "code",
   "execution_count": 27,
   "metadata": {},
   "outputs": [
    {
     "name": "stdout",
     "output_type": "stream",
     "text": [
      "Train score: 0.9795704183969427\n",
      "Test score: 0.9728418554699854\n",
      "CV score: 0.9623823509317297\n"
     ]
    }
   ],
   "source": [
    "knnr = KNeighborsRegressor()\n",
    "knnr.fit(X_train_sc, y_train)\n",
    "knnr_train_score = knnr.score(X_train_sc, y_train)\n",
    "knnr_test_score = knnr.score(X_test_sc, y_test)\n",
    "knnr_cv_score = cross_val_score(knnr, X_train_sc, y_train, cv=5).mean()\n",
    "print(f\"Train score: {knnr_train_score}\")\n",
    "print(f\"Test score: {knnr_test_score}\")\n",
    "print(f\"CV score: {knnr_cv_score}\")"
   ]
  },
  {
   "cell_type": "code",
   "execution_count": 28,
   "metadata": {},
   "outputs": [
    {
     "name": "stdout",
     "output_type": "stream",
     "text": [
      "Train score: 1.0\n",
      "Test score: 0.9999909563973628\n",
      "CV score: 0.9998272867504279\n"
     ]
    }
   ],
   "source": [
    "dtr = DecisionTreeRegressor()\n",
    "dtr.fit(X_train_sc, y_train)\n",
    "dtr_train_score = dtr.score(X_train_sc, y_train)\n",
    "dtr_test_score = dtr.score(X_test_sc, y_test)\n",
    "dtr_cv_score = cross_val_score(dtr, X_train_sc, y_train, cv=5).mean()\n",
    "print(f\"Train score: {dtr_train_score}\")\n",
    "print(f\"Test score: {dtr_test_score}\")\n",
    "print(f\"CV score: {dtr_cv_score}\")"
   ]
  },
  {
   "cell_type": "code",
   "execution_count": 29,
   "metadata": {},
   "outputs": [
    {
     "name": "stdout",
     "output_type": "stream",
     "text": [
      "Train score: 0.9999757732345468\n",
      "Test score: 0.9999631663709371\n",
      "CV score: 0.9999055466797975\n"
     ]
    }
   ],
   "source": [
    "bagr = BaggingRegressor()\n",
    "bagr.fit(X_train_sc, y_train)\n",
    "bagr_train_score = bagr.score(X_train_sc, y_train)\n",
    "bagr_test_score = bagr.score(X_test_sc, y_test)\n",
    "bagr_cv_score = cross_val_score(bagr, X_train_sc, y_train, cv=5).mean()\n",
    "print(f\"Train score: {bagr_train_score}\")\n",
    "print(f\"Test score: {bagr_test_score}\")\n",
    "print(f\"CV score: {bagr_cv_score}\")"
   ]
  },
  {
   "cell_type": "code",
   "execution_count": 30,
   "metadata": {},
   "outputs": [
    {
     "name": "stdout",
     "output_type": "stream",
     "text": [
      "Train score: 0.9999898735621409\n",
      "Test score: 0.9999898936278704\n",
      "CV score: 0.9999308283139303\n"
     ]
    }
   ],
   "source": [
    "rfr = RandomForestRegressor()\n",
    "rfr.fit(X_train_sc, y_train)\n",
    "rfr_train_score = rfr.score(X_train_sc, y_train)\n",
    "rfr_test_score = rfr.score(X_test_sc, y_test)\n",
    "rfr_cv_score = cross_val_score(rfr, X_train_sc, y_train, cv=5).mean()\n",
    "print(f\"Train score: {rfr_train_score}\")\n",
    "print(f\"Test score: {rfr_test_score}\")\n",
    "print(f\"CV score: {rfr_cv_score}\")"
   ]
  },
  {
   "cell_type": "code",
   "execution_count": 31,
   "metadata": {},
   "outputs": [
    {
     "name": "stdout",
     "output_type": "stream",
     "text": [
      "Train score: 0.9912628361100356\n",
      "Test score: 0.9915051491315466\n",
      "CV score: 0.990853851781061\n"
     ]
    }
   ],
   "source": [
    "adar = AdaBoostRegressor()\n",
    "adar.fit(X_train_sc, y_train)\n",
    "adar_train_score = adar.score(X_train_sc, y_train)\n",
    "adar_test_score = adar.score(X_test_sc, y_test)\n",
    "adar_cv_score = cross_val_score(adar, X_train_sc, y_train, cv=5).mean()\n",
    "print(f\"Train score: {adar_train_score}\")\n",
    "print(f\"Test score: {adar_test_score}\")\n",
    "print(f\"CV score: {adar_cv_score}\")"
   ]
  },
  {
   "cell_type": "code",
   "execution_count": 32,
   "metadata": {},
   "outputs": [
    {
     "name": "stdout",
     "output_type": "stream",
     "text": [
      "Train score: 0.8838451674009064\n",
      "Test score: 0.8796790700988567\n",
      "CV score: 0.8679108667118862\n"
     ]
    }
   ],
   "source": [
    "svr = SVR()\n",
    "svr.fit(X_train_sc, y_train)\n",
    "svr_train_score = svr.score(X_train_sc, y_train)\n",
    "svr_test_score = svr.score(X_test_sc, y_test)\n",
    "svr_cv_score = cross_val_score(svr, X_train_sc, y_train, cv=5).mean()\n",
    "print(f\"Train score: {svr_train_score}\")\n",
    "print(f\"Test score: {svr_test_score}\")\n",
    "print(f\"CV score: {svr_cv_score}\")"
   ]
  },
  {
   "cell_type": "markdown",
   "metadata": {},
   "source": [
    "##### 9. What is bootstrapping?"
   ]
  },
  {
   "cell_type": "markdown",
   "metadata": {},
   "source": [
    "Bootstrapping is random resampling with replacement. The sample is only relying on smaller samples of itself to make calculations on, in order to draw conclusions for the larger population."
   ]
  },
  {
   "cell_type": "markdown",
   "metadata": {},
   "source": [
    "##### 10. What is the difference between a decision tree and a set of bagged decision trees? Be specific and precise!"
   ]
  },
  {
   "cell_type": "markdown",
   "metadata": {},
   "source": [
    "Decision trees have some limitations. Trees that are grown very deep tend to learn highly irregular patterns(thus overfitting).\n",
    "\n",
    "Bagging (bootstrap aggregating) mitigates this problem by exposing different trees to different sub-samples of the training set."
   ]
  },
  {
   "cell_type": "markdown",
   "metadata": {},
   "source": [
    "##### 11. What is the difference between a set of bagged decision trees and a random forest? Be specific and precise!"
   ]
  },
  {
   "cell_type": "markdown",
   "metadata": {},
   "source": [
    "Bagging is an ensemble algorithm that fits multiple models on different subsets of a training dataset, then combines the predictions from all models. Random forest is an extension of bagging that also randomly selects subsets of features used in each data sample."
   ]
  },
  {
   "cell_type": "markdown",
   "metadata": {},
   "source": [
    "##### 12. Why might a random forest be superior to a set of bagged decision trees?\n",
    "> Hint: Consider the bias-variance tradeoff."
   ]
  },
  {
   "cell_type": "markdown",
   "metadata": {},
   "source": [
    "Random forest is a classification algorithm consisting of many decision trees combined to get a more accurate result as compared to a single tree. Random forest algorithm avoids and prevents overfitting by using multiple trees. This gives accurate and precise results."
   ]
  },
  {
   "cell_type": "markdown",
   "metadata": {},
   "source": [
    "## Step 5: Evaluate the model. (Part 1: Regression Problem)\n",
    "\n",
    "##### 13. Using RMSE, evaluate each of the models you fit on both the training and testing data."
   ]
  },
  {
   "cell_type": "code",
   "execution_count": 15,
   "metadata": {},
   "outputs": [
    {
     "name": "stdout",
     "output_type": "stream",
     "text": [
      "Train RMSE: 7.77621651619324\n",
      "Test RMSE: 7.506111330932505\n"
     ]
    }
   ],
   "source": [
    "lr_y_pred_train = lr.predict(X_train_sc)\n",
    "lr_y_pred_test = lr.predict(X_test_sc)\n",
    "lr_rmse_train = np.sqrt(metrics.mean_squared_error(y_train, lr_y_pred_train))\n",
    "lr_rmse_test = np.sqrt(metrics.mean_squared_error(y_test, lr_y_pred_test))\n",
    "print(f\"Train RMSE: {lr_rmse_train}\")\n",
    "print(f\"Test RMSE: {lr_rmse_test}\")"
   ]
  },
  {
   "cell_type": "code",
   "execution_count": 16,
   "metadata": {},
   "outputs": [
    {
     "name": "stdout",
     "output_type": "stream",
     "text": [
      "Train RMSE: 3.4272263258974696\n",
      "Test RMSE: 4.02396956785657\n"
     ]
    }
   ],
   "source": [
    "knnr_y_pred_train = knnr.predict(X_train_sc)\n",
    "knnr_y_pred_test = knnr.predict(X_test_sc)\n",
    "knnr_rmse_train = np.sqrt(metrics.mean_squared_error(y_train, knnr_y_pred_train))\n",
    "knnr_rmse_test = np.sqrt(metrics.mean_squared_error(y_test, knnr_y_pred_test))\n",
    "print(f\"Train RMSE: {knnr_rmse_train}\")\n",
    "print(f\"Test RMSE: {knnr_rmse_test}\")"
   ]
  },
  {
   "cell_type": "code",
   "execution_count": 17,
   "metadata": {},
   "outputs": [
    {
     "name": "stdout",
     "output_type": "stream",
     "text": [
      "Train RMSE: 5.379733536431154e-16\n",
      "Test RMSE: 0.15028649799328536\n"
     ]
    }
   ],
   "source": [
    "dtr_y_pred_train = dtr.predict(X_train_sc)\n",
    "dtr_y_pred_test = dtr.predict(X_test_sc)\n",
    "dtr_rmse_train = np.sqrt(metrics.mean_squared_error(y_train, dtr_y_pred_train))\n",
    "dtr_rmse_test = np.sqrt(metrics.mean_squared_error(y_test, dtr_y_pred_test))\n",
    "print(f\"Train RMSE: {dtr_rmse_train}\")\n",
    "print(f\"Test RMSE: {dtr_rmse_test}\")"
   ]
  },
  {
   "cell_type": "code",
   "execution_count": 18,
   "metadata": {},
   "outputs": [
    {
     "name": "stdout",
     "output_type": "stream",
     "text": [
      "Train RMSE: 0.11161614549308091\n",
      "Test RMSE: 0.08438828258729786\n"
     ]
    }
   ],
   "source": [
    "bagr_y_pred_train = bagr.predict(X_train_sc)\n",
    "bagr_y_pred_test = bagr.predict(X_test_sc)\n",
    "bagr_rmse_train = np.sqrt(metrics.mean_squared_error(y_train, bagr_y_pred_train))\n",
    "bagr_rmse_test = np.sqrt(metrics.mean_squared_error(y_test, bagr_y_pred_test))\n",
    "print(f\"Train RMSE: {bagr_rmse_train}\")\n",
    "print(f\"Test RMSE: {bagr_rmse_test}\")"
   ]
  },
  {
   "cell_type": "code",
   "execution_count": 19,
   "metadata": {},
   "outputs": [
    {
     "name": "stdout",
     "output_type": "stream",
     "text": [
      "Train RMSE: 0.07579454044767023\n",
      "Test RMSE: 0.07556073403552105\n"
     ]
    }
   ],
   "source": [
    "rfr_y_pred_train = rfr.predict(X_train_sc)\n",
    "rfr_y_pred_test = rfr.predict(X_test_sc)\n",
    "rfr_rmse_train = np.sqrt(metrics.mean_squared_error(y_train, rfr_y_pred_train))\n",
    "rfr_rmse_test = np.sqrt(metrics.mean_squared_error(y_test, rfr_y_pred_test))\n",
    "print(f\"Train RMSE: {rfr_rmse_train}\")\n",
    "print(f\"Test RMSE: {rfr_rmse_test}\")"
   ]
  },
  {
   "cell_type": "code",
   "execution_count": 20,
   "metadata": {},
   "outputs": [
    {
     "name": "stdout",
     "output_type": "stream",
     "text": [
      "Train RMSE: 2.1805111767184973\n",
      "Test RMSE: 2.1711311236749933\n"
     ]
    }
   ],
   "source": [
    "adar_y_pred_train = adar.predict(X_train_sc)\n",
    "adar_y_pred_test = adar.predict(X_test_sc)\n",
    "adar_rmse_train = np.sqrt(metrics.mean_squared_error(y_train, adar_y_pred_train))\n",
    "adar_rmse_test = np.sqrt(metrics.mean_squared_error(y_test, adar_y_pred_test))\n",
    "print(f\"Train RMSE: {adar_rmse_train}\")\n",
    "print(f\"Test RMSE: {adar_rmse_test}\")"
   ]
  },
  {
   "cell_type": "code",
   "execution_count": 21,
   "metadata": {},
   "outputs": [
    {
     "name": "stdout",
     "output_type": "stream",
     "text": [
      "Train RMSE: 8.17206270928853\n",
      "Test RMSE: 8.469840458655094\n"
     ]
    }
   ],
   "source": [
    "svr_y_pred_train = svr.predict(X_train_sc)\n",
    "svr_y_pred_test = svr.predict(X_test_sc)\n",
    "svr_rmse_train = np.sqrt(metrics.mean_squared_error(y_train, svr_y_pred_train))\n",
    "svr_rmse_test = np.sqrt(metrics.mean_squared_error(y_test, svr_y_pred_test))\n",
    "print(f\"Train RMSE: {svr_rmse_train}\")\n",
    "print(f\"Test RMSE: {svr_rmse_test}\")"
   ]
  },
  {
   "cell_type": "markdown",
   "metadata": {},
   "source": [
    "##### 14. Based on training RMSE and testing RMSE, is there evidence of overfitting in any of your models? Which ones?"
   ]
  },
  {
   "cell_type": "markdown",
   "metadata": {},
   "source": [
    "LinearRegression, KNeighborsRegressor, BaggingRegressor, AdaBoostRegressor, support vector regressor"
   ]
  },
  {
   "cell_type": "markdown",
   "metadata": {},
   "source": [
    "##### 15. Based on everything we've covered so far, if you had to pick just one model as your final model to use to answer the problem in front of you, which one model would you pick? Defend your choice."
   ]
  },
  {
   "cell_type": "markdown",
   "metadata": {},
   "source": [
    "Random forest regressor as it has the smallest RMSE and least variance between train RMSE and test RMSE."
   ]
  },
  {
   "cell_type": "markdown",
   "metadata": {},
   "source": [
    "##### 16. Suppose you wanted to improve the performance of your final model. Brainstorm 2-3 things that, if you had more time, you would attempt."
   ]
  },
  {
   "cell_type": "markdown",
   "metadata": {},
   "source": [
    "Grid search for the best param for the following: max_depth, min_samples_split, min_weight_fraction_leaf, min_samples_leaf"
   ]
  },
  {
   "cell_type": "markdown",
   "metadata": {},
   "source": [
    "## Step 4: Model the data. (Part 2: Classification Problem)\n",
    "\n",
    "Recall:\n",
    "- Problem: Predict whether or not one is eligible for a 401k.\n",
    "- When predicting `e401k`, you may use the entire dataframe if you wish.\n",
    "\n",
    "##### 17. While you're allowed to use every variable in your dataframe, mention at least one disadvantage of using `p401k` in your model."
   ]
  },
  {
   "cell_type": "markdown",
   "metadata": {},
   "source": [
    "e401k and p401k will probably have similar/overlapping results, thus it shouldn't be used to predict e401k."
   ]
  },
  {
   "cell_type": "markdown",
   "metadata": {},
   "source": [
    "##### 18. List all modeling tactics we've learned that could be used to solve a classification problem (as of Wednesday afternoon of Week 6). For each tactic, identify whether it is or is not appropriate for solving this specific classification problem and explain why or why not."
   ]
  },
  {
   "cell_type": "markdown",
   "metadata": {},
   "source": [
    "- Logistic Regression: when the classification problem is binary — true or false\n",
    "- Decision Tree: branches in a hierarchy approach and each branch can be considered as an if-else statement\n",
    "- Random Forest: collection of decision trees. aggregate results from multiple predictors\n",
    "- Support Vector Machine (SVM): classify the data based on the position in relation to a border between positive class and negative class\n",
    "- K-Nearest Neighbour (KNN): calculates the distance between one point to another, then assign the label of unobserved data based on the labels of nearest observed data points\n",
    "- Naive Bayes: naive assumption that each feature is independent to each other. performs relatively well even when the training data size is small\n"
   ]
  },
  {
   "cell_type": "markdown",
   "metadata": {},
   "source": [
    "##### 19. Regardless of your answer to number 18, fit at least one of each of the following models to attempt to solve the classification problem above:\n",
    "    - a logistic regression model\n",
    "    - a k-nearest neighbors model\n",
    "    - a decision tree\n",
    "    - a set of bagged decision trees\n",
    "    - a random forest\n",
    "    - an Adaboost model\n",
    "    - a support vector classifier\n",
    "    \n",
    "> As always, be sure to do a train/test split! In order to compare modeling techniques, you should use the same train-test split on each. I recommend using a random seed here.\n",
    "\n",
    "> You may find it helpful to set up a pipeline to try each modeling technique, but you are not required to do so!"
   ]
  },
  {
   "cell_type": "code",
   "execution_count": 48,
   "metadata": {},
   "outputs": [],
   "source": [
    "from sklearn.linear_model import LogisticRegression\n",
    "from sklearn.neighbors import KNeighborsClassifier\n",
    "from sklearn.tree import DecisionTreeClassifier\n",
    "from sklearn.ensemble import BaggingClassifier, RandomForestClassifier, AdaBoostClassifier\n",
    "from sklearn.svm import SVC\n",
    "from sklearn.metrics import confusion_matrix, plot_confusion_matrix, accuracy_score, plot_roc_curve, roc_auc_score, recall_score, precision_score, f1_score"
   ]
  },
  {
   "cell_type": "code",
   "execution_count": 23,
   "metadata": {},
   "outputs": [],
   "source": [
    "X2 = four01k.drop(['e401k','p401k'], axis=1)\n",
    "y2 = four01k['e401k']"
   ]
  },
  {
   "cell_type": "code",
   "execution_count": 39,
   "metadata": {},
   "outputs": [],
   "source": [
    "X2_train, X2_test, y2_train, y2_test = train_test_split(X2, y2, random_state=42)"
   ]
  },
  {
   "cell_type": "code",
   "execution_count": 25,
   "metadata": {},
   "outputs": [],
   "source": [
    "ss = StandardScaler()\n",
    "X2_train_sc = ss.fit_transform(X2_train)\n",
    "X2_test_sc = ss.transform(X2_test)"
   ]
  },
  {
   "cell_type": "code",
   "execution_count": 34,
   "metadata": {},
   "outputs": [
    {
     "name": "stdout",
     "output_type": "stream",
     "text": [
      "Train score: 0.6569867740080506\n",
      "Test score: 0.6550237171194481\n",
      "CV score: 0.6546859118966756\n"
     ]
    }
   ],
   "source": [
    "logreg = LogisticRegression()\n",
    "logreg.fit(X2_train_sc, y2_train)\n",
    "logreg_train_score = logreg.score(X2_train_sc, y2_train)\n",
    "logreg_test_score = logreg.score(X2_test_sc, y2_test)\n",
    "logreg_cv_score = cross_val_score(logreg, X2_train_sc, y2_train, cv=5).mean()\n",
    "print(f\"Train score: {logreg_train_score}\")\n",
    "print(f\"Test score: {logreg_test_score}\")\n",
    "print(f\"CV score: {logreg_cv_score}\")"
   ]
  },
  {
   "cell_type": "code",
   "execution_count": 66,
   "metadata": {},
   "outputs": [
    {
     "name": "stderr",
     "output_type": "stream",
     "text": [
      "/Users/cindy/opt/anaconda3/lib/python3.9/site-packages/sklearn/utils/deprecation.py:87: FutureWarning: Function plot_confusion_matrix is deprecated; Function `plot_confusion_matrix` is deprecated in 1.0 and will be removed in 1.2. Use one of the class methods: ConfusionMatrixDisplay.from_predictions or ConfusionMatrixDisplay.from_estimator.\n",
      "  warnings.warn(msg, category=FutureWarning)\n"
     ]
    },
    {
     "data": {
      "image/png": "[encoded data removed]",
      "text/plain": [
       "<Figure size 432x288 with 2 Axes>"
      ]
     },
     "metadata": {
      "needs_background": "light"
     },
     "output_type": "display_data"
    }
   ],
   "source": [
    "logreg_preds = logreg.predict(X2_test_sc)\n",
    "logreg_matrix = confusion_matrix(y2_test, logreg_preds)\n",
    "tn, fp, fn, tp = logreg_matrix.ravel()\n",
    "plot_confusion_matrix(logreg, X2_test_sc, y2_test, cmap='Blues', \n",
    "                      values_format='d', display_labels=[1,0]);"
   ]
  },
  {
   "cell_type": "code",
   "execution_count": 35,
   "metadata": {},
   "outputs": [
    {
     "name": "stdout",
     "output_type": "stream",
     "text": [
      "Train score: 0.7515813686026452\n",
      "Test score: 0.6399310047434239\n",
      "CV score: 0.6213324367650825\n"
     ]
    }
   ],
   "source": [
    "knn = KNeighborsClassifier()\n",
    "knn.fit(X2_train_sc, y2_train)\n",
    "knn_train_score = knn.score(X2_train_sc, y2_train)\n",
    "knn_test_score = knn.score(X2_test_sc, y2_test)\n",
    "knn_cv_score = cross_val_score(knn, X2_train_sc, y2_train, cv=5).mean()\n",
    "print(f\"Train score: {knn_train_score}\")\n",
    "print(f\"Test score: {knn_test_score}\")\n",
    "print(f\"CV score: {knn_cv_score}\")"
   ]
  },
  {
   "cell_type": "code",
   "execution_count": 67,
   "metadata": {
    "scrolled": false
   },
   "outputs": [
    {
     "name": "stderr",
     "output_type": "stream",
     "text": [
      "/Users/cindy/opt/anaconda3/lib/python3.9/site-packages/sklearn/utils/deprecation.py:87: FutureWarning: Function plot_confusion_matrix is deprecated; Function `plot_confusion_matrix` is deprecated in 1.0 and will be removed in 1.2. Use one of the class methods: ConfusionMatrixDisplay.from_predictions or ConfusionMatrixDisplay.from_estimator.\n",
      "  warnings.warn(msg, category=FutureWarning)\n"
     ]
    },
    {
     "data": {
      "image/png": "[encoded data removed]",
      "text/plain": [
       "<Figure size 432x288 with 2 Axes>"
      ]
     },
     "metadata": {
      "needs_background": "light"
     },
     "output_type": "display_data"
    }
   ],
   "source": [
    "knn_preds = knn.predict(X2_test_sc)\n",
    "knn_matrix = confusion_matrix(y2_test, knn_preds)\n",
    "tn2, fp2, fn2, tp2 = knn_matrix.ravel()\n",
    "plot_confusion_matrix(knn, X2_test_sc, y2_test, cmap='Blues', \n",
    "                      values_format='d', display_labels=[1,0]);"
   ]
  },
  {
   "cell_type": "code",
   "execution_count": 68,
   "metadata": {},
   "outputs": [
    {
     "data": {
      "text/plain": [
       "0.6399310047434239"
      ]
     },
     "execution_count": 68,
     "metadata": {},
     "output_type": "execute_result"
    }
   ],
   "source": [
    "accuracy_score(y2_test, knn_preds)"
   ]
  },
  {
   "cell_type": "code",
   "execution_count": 69,
   "metadata": {},
   "outputs": [
    {
     "data": {
      "text/plain": [
       "0.7510548523206751"
      ]
     },
     "execution_count": 69,
     "metadata": {},
     "output_type": "execute_result"
    }
   ],
   "source": [
    "spec = tn2 / (tn2 + fp2)\n",
    "spec"
   ]
  },
  {
   "cell_type": "code",
   "execution_count": 70,
   "metadata": {},
   "outputs": [
    {
     "data": {
      "text/plain": [
       "0.463768115942029"
      ]
     },
     "execution_count": 70,
     "metadata": {},
     "output_type": "execute_result"
    }
   ],
   "source": [
    "recall_score(y2_test, knn_preds)"
   ]
  },
  {
   "cell_type": "code",
   "execution_count": 71,
   "metadata": {},
   "outputs": [
    {
     "data": {
      "text/plain": [
       "0.5402597402597402"
      ]
     },
     "execution_count": 71,
     "metadata": {},
     "output_type": "execute_result"
    }
   ],
   "source": [
    "precision_score(y2_test, knn_preds)"
   ]
  },
  {
   "cell_type": "code",
   "execution_count": 36,
   "metadata": {},
   "outputs": [
    {
     "name": "stdout",
     "output_type": "stream",
     "text": [
      "Train score: 1.0\n",
      "Test score: 0.5821474773609314\n",
      "CV score: 0.5977578563342341\n"
     ]
    }
   ],
   "source": [
    "dt = DecisionTreeClassifier()\n",
    "dt.fit(X2_train_sc, y2_train)\n",
    "dt_train_score = dt.score(X2_train_sc, y2_train)\n",
    "dt_test_score = dt.score(X2_test_sc, y2_test)\n",
    "dt_cv_score = cross_val_score(dt, X2_train_sc, y2_train, cv=5).mean()\n",
    "print(f\"Train score: {dt_train_score}\")\n",
    "print(f\"Test score: {dt_test_score}\")\n",
    "print(f\"CV score: {dt_cv_score}\")"
   ]
  },
  {
   "cell_type": "code",
   "execution_count": 37,
   "metadata": {},
   "outputs": [
    {
     "name": "stdout",
     "output_type": "stream",
     "text": [
      "Train score: 0.9752731454859115\n",
      "Test score: 0.6515739542906425\n",
      "CV score: 0.6473542973301271\n"
     ]
    }
   ],
   "source": [
    "bag = BaggingClassifier()\n",
    "bag.fit(X2_train_sc, y2_train)\n",
    "bag_train_score = bag.score(X2_train_sc, y2_train)\n",
    "bag_test_score = bag.score(X2_test_sc, y2_test)\n",
    "bag_cv_score = cross_val_score(bag, X2_train_sc, y2_train, cv=5).mean()\n",
    "print(f\"Train score: {bag_train_score}\")\n",
    "print(f\"Test score: {bag_test_score}\")\n",
    "print(f\"CV score: {bag_cv_score}\")"
   ]
  },
  {
   "cell_type": "code",
   "execution_count": 40,
   "metadata": {},
   "outputs": [
    {
     "name": "stdout",
     "output_type": "stream",
     "text": [
      "Train score: 1.0\n",
      "Test score: 0.6670978870202674\n",
      "CV score: 0.6631680879545849\n"
     ]
    }
   ],
   "source": [
    "rf = RandomForestClassifier()\n",
    "rf.fit(X2_train_sc, y2_train)\n",
    "rf_train_score = rf.score(X2_train_sc, y2_train)\n",
    "rf_test_score = rf.score(X2_test_sc, y2_test)\n",
    "rf_cv_score = cross_val_score(rf, X2_train_sc, y2_train, cv=5).mean()\n",
    "print(f\"Train score: {rf_train_score}\")\n",
    "print(f\"Test score: {rf_test_score}\")\n",
    "print(f\"CV score: {rf_cv_score}\")"
   ]
  },
  {
   "cell_type": "code",
   "execution_count": 41,
   "metadata": {},
   "outputs": [
    {
     "name": "stdout",
     "output_type": "stream",
     "text": [
      "Train score: 0.6927832087406556\n",
      "Test score: 0.685640362225097\n",
      "CV score: 0.6795571076790864\n"
     ]
    }
   ],
   "source": [
    "ada = AdaBoostClassifier()\n",
    "ada.fit(X2_train_sc, y2_train)\n",
    "ada_train_score = ada.score(X2_train_sc, y2_train)\n",
    "ada_test_score = ada.score(X2_test_sc, y2_test)\n",
    "ada_cv_score = cross_val_score(ada, X2_train_sc, y2_train, cv=5).mean()\n",
    "print(f\"Train score: {ada_train_score}\")\n",
    "print(f\"Test score: {ada_test_score}\")\n",
    "print(f\"CV score: {ada_cv_score}\")"
   ]
  },
  {
   "cell_type": "code",
   "execution_count": 45,
   "metadata": {},
   "outputs": [
    {
     "name": "stdout",
     "output_type": "stream",
     "text": [
      "Train score: 0.683870040253019\n",
      "Test score: 0.6774471755066839\n",
      "CV score: 0.665324913028748\n"
     ]
    }
   ],
   "source": [
    "svm = SVC()\n",
    "svm.fit(X2_train_sc, y2_train)\n",
    "svm_train_score = svm.score(X2_train_sc, y2_train)\n",
    "svm_test_score = svm.score(X2_test_sc, y2_test)\n",
    "svm_cv_score = cross_val_score(svm, X2_train_sc, y2_train, cv=5).mean()\n",
    "print(f\"Train score: {svm_train_score}\")\n",
    "print(f\"Test score: {svm_test_score}\")\n",
    "print(f\"CV score: {svm_cv_score}\")"
   ]
  },
  {
   "cell_type": "markdown",
   "metadata": {},
   "source": [
    "## Step 5: Evaluate the model. (Part 2: Classfication Problem)\n",
    "\n",
    "##### 20. Suppose our \"positive\" class is that someone is eligible for a 401(k). What are our false positives? What are our false negatives?"
   ]
  },
  {
   "cell_type": "markdown",
   "metadata": {},
   "source": [
    "- false positives: predicted eligible but is not\n",
    "- false negatives: predicted as not eligible but is"
   ]
  },
  {
   "cell_type": "markdown",
   "metadata": {},
   "source": [
    "##### 21. In this specific case, would we rather minimize false positives or minimize false negatives? Defend your choice."
   ]
  },
  {
   "cell_type": "markdown",
   "metadata": {},
   "source": [
    "minimize false positive. More false negative has lesser risk."
   ]
  },
  {
   "cell_type": "markdown",
   "metadata": {},
   "source": [
    "##### 22. Suppose we wanted to optimize for the answer you provided in problem 21. Which metric would we optimize in this case?"
   ]
  },
  {
   "cell_type": "code",
   "execution_count": null,
   "metadata": {},
   "outputs": [],
   "source": []
  },
  {
   "cell_type": "markdown",
   "metadata": {},
   "source": [
    "##### 23. Suppose that instead of optimizing for the metric in problem 21, we wanted to balance our false positives and false negatives using `f1-score`. Why might [f1-score](https://en.wikipedia.org/wiki/F1_score) be an appropriate metric to use here?"
   ]
  },
  {
   "cell_type": "markdown",
   "metadata": {},
   "source": [
    "It is calculated from the precision and recall of the test"
   ]
  },
  {
   "cell_type": "markdown",
   "metadata": {},
   "source": [
    "##### 24. Using f1-score, evaluate each of the models you fit on both the training and testing data."
   ]
  },
  {
   "cell_type": "code",
   "execution_count": 76,
   "metadata": {},
   "outputs": [
    {
     "name": "stdout",
     "output_type": "stream",
     "text": [
      "F1 Train: 0.4822048611111111\n",
      "F1 Test: 0.4708994708994709\n"
     ]
    }
   ],
   "source": [
    "logreg_preds_train = logreg.predict(X2_train_sc)\n",
    "logreg_f1_train = f1_score(y2_train, logreg_preds_train)\n",
    "print(f'F1 Train: {logreg_f1_train}')\n",
    "\n",
    "logreg_preds_test = logreg.predict(X2_test_sc)\n",
    "logreg_f1_test = f1_score(y2_test, logreg_preds_test)\n",
    "print(f'F1 Test: {logreg_f1_test}')"
   ]
  },
  {
   "cell_type": "code",
   "execution_count": 77,
   "metadata": {},
   "outputs": [
    {
     "name": "stdout",
     "output_type": "stream",
     "text": [
      "F1 Train: 0.6587677725118484\n",
      "F1 Train: 0.49910017996400713\n"
     ]
    }
   ],
   "source": [
    "knn_preds_train = knn.predict(X2_train_sc)\n",
    "knn_f1_train = f1_score(y2_train, knn_preds_train)\n",
    "print(f'F1 Train: {knn_f1_train}')\n",
    "\n",
    "knn_preds_test = knn.predict(X2_test_sc)\n",
    "knn_f1_test = f1_score(y2_test, knn_preds_test)\n",
    "print(f'F1 Train: {knn_f1_test}')"
   ]
  },
  {
   "cell_type": "code",
   "execution_count": 79,
   "metadata": {},
   "outputs": [
    {
     "name": "stdout",
     "output_type": "stream",
     "text": [
      "F1 Train: 1.0\n",
      "F1 Train: 0.47020229633679606\n"
     ]
    }
   ],
   "source": [
    "dt_preds_train = dt.predict(X2_train_sc)\n",
    "dt_f1_train = f1_score(y2_train, dt_preds_train)\n",
    "print(f'F1 Train: {dt_f1_train}')\n",
    "\n",
    "dt_preds_test = dt.predict(X2_test_sc)\n",
    "dt_f1_test = f1_score(y2_test, dt_preds_test)\n",
    "print(f'F1 Train: {dt_f1_test}')"
   ]
  },
  {
   "cell_type": "code",
   "execution_count": 80,
   "metadata": {},
   "outputs": [
    {
     "name": "stdout",
     "output_type": "stream",
     "text": [
      "F1 Train: 0.9678504672897196\n",
      "F1 Train: 0.4987593052109181\n"
     ]
    }
   ],
   "source": [
    "bag_preds_train = bag.predict(X2_train_sc)\n",
    "bag_f1_train = f1_score(y2_train, bag_preds_train)\n",
    "print(f'F1 Train: {bag_f1_train}')\n",
    "\n",
    "bag_preds_test = bag.predict(X2_test_sc)\n",
    "bag_f1_test = f1_score(y2_test, bag_preds_test)\n",
    "print(f'F1 Train: {bag_f1_test}')"
   ]
  },
  {
   "cell_type": "code",
   "execution_count": 81,
   "metadata": {},
   "outputs": [
    {
     "name": "stdout",
     "output_type": "stream",
     "text": [
      "F1 Train: 1.0\n",
      "F1 Train: 0.5326876513317191\n"
     ]
    }
   ],
   "source": [
    "rf_preds_train = rf.predict(X2_train_sc)\n",
    "rf_f1_train = f1_score(y2_train, rf_preds_train)\n",
    "print(f'F1 Train: {rf_f1_train}')\n",
    "\n",
    "rf_preds_test = rf.predict(X2_test_sc)\n",
    "rf_f1_test = f1_score(y2_test, rf_preds_test)\n",
    "print(f'F1 Train: {rf_f1_test}')"
   ]
  },
  {
   "cell_type": "code",
   "execution_count": 82,
   "metadata": {},
   "outputs": [
    {
     "name": "stdout",
     "output_type": "stream",
     "text": [
      "F1 Train: 0.569066344020972\n",
      "F1 Train: 0.5552165954850519\n"
     ]
    }
   ],
   "source": [
    "ada_preds_train = ada.predict(X2_train_sc)\n",
    "ada_f1_train = f1_score(y2_train, ada_preds_train)\n",
    "print(f'F1 Train: {ada_f1_train}')\n",
    "\n",
    "ada_preds_test = ada.predict(X2_test_sc)\n",
    "ada_f1_test = f1_score(y2_test, ada_preds_test)\n",
    "print(f'F1 Train: {ada_f1_test}')"
   ]
  },
  {
   "cell_type": "code",
   "execution_count": 83,
   "metadata": {},
   "outputs": [
    {
     "name": "stdout",
     "output_type": "stream",
     "text": [
      "F1 Train: 0.4805102763997165\n",
      "F1 Train: 0.46031746031746035\n"
     ]
    }
   ],
   "source": [
    "svm_preds_train = svm.predict(X2_train_sc)\n",
    "svm_f1_train = f1_score(y2_train, svm_preds_train)\n",
    "print(f'F1 Train: {svm_f1_train}')\n",
    "\n",
    "svm_preds_test = svm.predict(X2_test_sc)\n",
    "svm_f1_test = f1_score(y2_test, svm_preds_test)\n",
    "print(f'F1 Train: {svm_f1_test}')"
   ]
  },
  {
   "cell_type": "markdown",
   "metadata": {},
   "source": [
    "##### 25. Based on training f1-score and testing f1-score, is there evidence of overfitting in any of your models? Which ones?"
   ]
  },
  {
   "cell_type": "markdown",
   "metadata": {},
   "source": [
    "KNeighborsClassifier, DecisionTreeClassifier, BaggingClassifier, RandomForestClassifier"
   ]
  },
  {
   "cell_type": "markdown",
   "metadata": {},
   "source": [
    "##### 26. Based on everything we've covered so far, if you had to pick just one model as your final model to use to answer the problem in front of you, which one model would you pick? Defend your choice."
   ]
  },
  {
   "cell_type": "markdown",
   "metadata": {},
   "source": [
    "AdaBoostClassifier"
   ]
  },
  {
   "cell_type": "markdown",
   "metadata": {},
   "source": [
    "##### 27. Suppose you wanted to improve the performance of your final model. Brainstorm 2-3 things that, if you had more time, you would attempt."
   ]
  },
  {
   "cell_type": "markdown",
   "metadata": {},
   "source": [
    "Grid search for the best param for the following: n_estimators, learning_rate"
   ]
  },
  {
   "cell_type": "markdown",
   "metadata": {},
   "source": [
    "## Step 6: Answer the problem.\n",
    "\n",
    "##### BONUS: Briefly summarize your answers to the regression and classification problems. Be sure to include any limitations or hesitations in your answer.\n",
    "\n",
    "- Regression: What features best predict one's income?\n",
    "- Classification: Predict whether or not one is eligible for a 401k."
   ]
  },
  {
   "cell_type": "code",
   "execution_count": null,
   "metadata": {},
   "outputs": [],
   "source": []
  }
 ],
 "metadata": {
  "kernelspec": {
   "display_name": "Python 3 (ipykernel)",
   "language": "python",
   "name": "python3"
  },
  "language_info": {
   "codemirror_mode": {
    "name": "ipython",
    "version": 3
   },
   "file_extension": ".py",
   "mimetype": "text/x-python",
   "name": "python",
   "nbconvert_exporter": "python",
   "pygments_lexer": "ipython3",
   "version": "3.9.7"
  }
 },
 "nbformat": 4,
 "nbformat_minor": 2
}
